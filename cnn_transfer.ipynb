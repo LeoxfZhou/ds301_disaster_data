{
 "cells": [
  {
   "cell_type": "code",
   "execution_count": null,
   "id": "2cb00fb9-984d-4bb5-bb41-bdaed20a7fe3",
   "metadata": {},
   "outputs": [],
   "source": []
  },
  {
   "cell_type": "code",
   "execution_count": 1,
   "id": "4a2a40b1-fc3e-48d5-9982-10a91edca4a1",
   "metadata": {
    "tags": []
   },
   "outputs": [],
   "source": [
    "#!pip install scikit-learn"
   ]
  },
  {
   "cell_type": "code",
   "execution_count": 2,
   "id": "20ff35ba-1c73-41a7-937e-a59e1370d292",
   "metadata": {
    "tags": []
   },
   "outputs": [],
   "source": [
    "#!pip install shapely"
   ]
  },
  {
   "cell_type": "code",
   "execution_count": null,
   "id": "85ea0427-e138-4d5f-bebd-d924c3435c88",
   "metadata": {
    "tags": []
   },
   "outputs": [],
   "source": [
    "import torch\n",
    "from torchvision import transforms\n",
    "from torch.utils.data import DataLoader, Dataset, random_split\n",
    "from sklearn.preprocessing import LabelEncoder\n",
    "import os\n",
    "from PIL import Image\n",
    "import torch.nn as nn\n",
    "import torch.optim as optim\n",
    "import torch.nn.functional as F\n",
    "from torchvision.models import resnet18"
   ]
  },
  {
   "cell_type": "code",
   "execution_count": null,
   "id": "3a149414-61d8-4e79-80c2-295b43f9ee55",
   "metadata": {
    "tags": []
   },
   "outputs": [],
   "source": [
    "class DisasterTypeDataset(Dataset):\n",
    "    def __init__(self, image_dir, transform=None):\n",
    "        \"\"\"\n",
    "        Args:\n",
    "            image_dir (string): Directory with all post-disaster images.\n",
    "            transform (callable, optional): Optional transform to be applied on a sample.\n",
    "        \"\"\"\n",
    "        self.image_dir = image_dir\n",
    "        self.transform = transform\n",
    "        self.image_filenames = os.listdir(image_dir)\n",
    "        self.label_encoder = LabelEncoder()\n",
    "        disaster_types = [self.extract_disaster_type(f) for f in self.image_filenames]\n",
    "        self.labels = self.label_encoder.fit_transform(disaster_types)\n",
    "\n",
    "    def __len__(self):\n",
    "        return len(self.image_filenames)\n",
    "\n",
    "    def __getitem__(self, idx):\n",
    "        img_name = os.path.join(self.image_dir, self.image_filenames[idx])\n",
    "        image = Image.open(img_name)\n",
    "        label = self.labels[idx]\n",
    "        if self.transform:\n",
    "            image = self.transform(image)\n",
    "        return image, torch.tensor(label, dtype=torch.long)\n",
    "\n",
    "    def extract_disaster_type(self, filename):\n",
    "        parts = filename.split('_')\n",
    "        first_part = parts[0]\n",
    "        disaster_types = [\"hurricane\", \"fire\", \"wind\", \"flooding\", \"tsunami\", \"earthquake\"] # There is no wind in data, but web page said there is\n",
    "        for disaster_type in disaster_types:\n",
    "            if disaster_type in first_part:\n",
    "                return disaster_type\n",
    "        return \"unknown\"\n",
    "\n",
    "    def get_disaster_types(self):\n",
    "        return self.label_encoder.classes_\n",
    "\n",
    "\n",
    "def get_transform():\n",
    "    # Convert PIL images to tensors and normalize them\n",
    "    return transforms.Compose([\n",
    "        transforms.Resize((256, 256)),  # resize images to uniform size\n",
    "        transforms.ToTensor(),          # convert to tensor\n",
    "        transforms.Normalize(mean=[0.485, 0.456, 0.406],  \n",
    "                             std=[0.229, 0.224, 0.225])   \n",
    "    ])\n"
   ]
  },
  {
   "cell_type": "code",
   "execution_count": null,
   "id": "ec5a0ba0-93bf-4cc3-a807-30885e84f6f8",
   "metadata": {},
   "outputs": [],
   "source": []
  },
  {
   "cell_type": "code",
   "execution_count": null,
   "id": "48d3807a-d140-4647-8500-80473824231d",
   "metadata": {
    "tags": []
   },
   "outputs": [],
   "source": [
    "class CNN_model(nn.Module):\n",
    "    def __init__(self, num_classes):\n",
    "        super(CNN_model, self).__init__()\n",
    "        self.conv1 = nn.Conv2d(3, 16, kernel_size=3, padding=1)\n",
    "        self.conv2 = nn.Conv2d(16, 32, kernel_size=3, padding=1)\n",
    "        self.conv3 = nn.Conv2d(32, 64, kernel_size=3, padding=1)\n",
    "        self.pool = nn.MaxPool2d(2, 2)\n",
    "        self.fc1 = nn.Linear(64 * 32 * 32, 128)  #the input features\n",
    "        self.fc2 = nn.Linear(128, num_classes)\n",
    "\n",
    "    def forward(self, x):\n",
    "        x = self.pool(F.relu(self.conv1(x)))\n",
    "        x = self.pool(F.relu(self.conv2(x)))\n",
    "        x = self.pool(F.relu(self.conv3(x)))\n",
    "        x = x.view(-1, 64 * 32 * 32)  #the flattening\n",
    "        x = F.relu(self.fc1(x))\n",
    "        x = self.fc2(x)\n",
    "        return x"
   ]
  },
  {
   "cell_type": "code",
   "execution_count": 6,
   "id": "c669b167-e7c3-45cb-8b42-481d43f1e7ad",
   "metadata": {
    "tags": []
   },
   "outputs": [],
   "source": [
    "# Define the training function\n",
    "def train_model(model, train_loader, val_loader, criterion, optimizer, num_epochs=10):\n",
    "    device = torch.device(\"cuda\" if torch.cuda.is_available() else \"cpu\")\n",
    "    model = model.to(device)\n",
    "\n",
    "    for epoch in range(num_epochs):\n",
    "        model.train()\n",
    "        running_loss = 0.0\n",
    "        correct = 0\n",
    "        total = 0\n",
    "\n",
    "        for images, labels in train_loader:\n",
    "            images, labels = images.to(device), labels.to(device)\n",
    "            optimizer.zero_grad()\n",
    "            outputs = model(images)\n",
    "            loss = criterion(outputs, labels)\n",
    "            loss.backward()\n",
    "            optimizer.step()\n",
    "            running_loss += loss.item()\n",
    "            _, predicted = torch.max(outputs.data, 1)\n",
    "            total += labels.size(0)\n",
    "            correct += (predicted == labels).sum().item()\n",
    "\n",
    "        train_acc = 100 * correct / total\n",
    "        print(f'Epoch {epoch+1}/{num_epochs}, Loss: {running_loss/len(train_loader):.4f}, Accuracy: {train_acc:.2f}%')\n",
    "\n",
    "        model.eval()\n",
    "        val_loss = 0.0\n",
    "        correct = 0\n",
    "        total = 0\n",
    "\n",
    "        with torch.no_grad():\n",
    "            for images, labels in val_loader:\n",
    "                images, labels = images.to(device), labels.to(device)\n",
    "                outputs = model(images)\n",
    "                loss = criterion(outputs, labels)\n",
    "                val_loss += loss.item()\n",
    "                _, predicted = torch.max(outputs.data, 1)\n",
    "                total += labels.size(0)\n",
    "                correct += (predicted == labels).sum().item()\n",
    "\n",
    "        val_acc = 100 * correct / total\n",
    "        print(f'Validation Loss: {val_loss/len(val_loader):.4f}, Accuracy: {val_acc:.2f}%')\n",
    "\n",
    "    print(\"Finished Training\")\n",
    "\n"
   ]
  },
  {
   "cell_type": "code",
   "execution_count": 7,
   "id": "14d5ee2d-b6df-431a-afb6-365fdb19c48d",
   "metadata": {
    "tags": []
   },
   "outputs": [
    {
     "name": "stderr",
     "output_type": "stream",
     "text": [
      "/root/miniconda3/lib/python3.8/site-packages/torchvision/models/_utils.py:208: UserWarning: The parameter 'pretrained' is deprecated since 0.13 and may be removed in the future, please use 'weights' instead.\n",
      "  warnings.warn(\n",
      "/root/miniconda3/lib/python3.8/site-packages/torchvision/models/_utils.py:223: UserWarning: Arguments other than a weight enum or `None` for 'weights' are deprecated since 0.13 and may be removed in the future. The current behavior is equivalent to passing `weights=ResNet18_Weights.IMAGENET1K_V1`. You can also use `weights=ResNet18_Weights.DEFAULT` to get the most up-to-date weights.\n",
      "  warnings.warn(msg)\n",
      "Downloading: \"https://download.pytorch.org/models/resnet18-f37072fd.pth\" to /root/.cache/torch/hub/checkpoints/resnet18-f37072fd.pth\n",
      "100%|██████████| 44.7M/44.7M [01:20<00:00, 585kB/s] \n"
     ]
    },
    {
     "name": "stdout",
     "output_type": "stream",
     "text": [
      "Epoch 1/10, Loss: 0.4879, Accuracy: 84.74%\n",
      "Validation Loss: 0.4507, Accuracy: 87.11%\n",
      "Epoch 2/10, Loss: 0.2656, Accuracy: 91.93%\n",
      "Validation Loss: 1.4581, Accuracy: 74.94%\n",
      "Epoch 3/10, Loss: 0.2183, Accuracy: 93.26%\n",
      "Validation Loss: 0.1917, Accuracy: 94.03%\n",
      "Epoch 4/10, Loss: 0.1343, Accuracy: 95.87%\n",
      "Validation Loss: 1.2552, Accuracy: 73.99%\n",
      "Epoch 5/10, Loss: 0.1439, Accuracy: 95.76%\n",
      "Validation Loss: 0.1549, Accuracy: 94.75%\n",
      "Epoch 6/10, Loss: 0.0829, Accuracy: 97.55%\n",
      "Validation Loss: 0.2717, Accuracy: 90.21%\n",
      "Epoch 7/10, Loss: 0.0898, Accuracy: 96.89%\n",
      "Validation Loss: 0.3653, Accuracy: 88.78%\n",
      "Epoch 8/10, Loss: 0.0680, Accuracy: 97.60%\n",
      "Validation Loss: 0.1435, Accuracy: 94.75%\n",
      "Epoch 9/10, Loss: 0.1735, Accuracy: 93.67%\n",
      "Validation Loss: 0.3100, Accuracy: 90.93%\n",
      "Epoch 10/10, Loss: 0.0844, Accuracy: 96.89%\n",
      "Validation Loss: 0.1385, Accuracy: 95.47%\n",
      "Finished Training\n",
      "Epoch 1/10, Loss: 1.2685, Accuracy: 49.36%\n",
      "Validation Loss: 0.9727, Accuracy: 67.78%\n",
      "Epoch 2/10, Loss: 0.6986, Accuracy: 74.22%\n",
      "Validation Loss: 0.6840, Accuracy: 78.04%\n",
      "Epoch 3/10, Loss: 0.4206, Accuracy: 85.86%\n",
      "Validation Loss: 0.7309, Accuracy: 78.04%\n",
      "Epoch 4/10, Loss: 0.2738, Accuracy: 90.40%\n",
      "Validation Loss: 0.5886, Accuracy: 84.49%\n",
      "Epoch 5/10, Loss: 0.1957, Accuracy: 92.65%\n",
      "Validation Loss: 0.7324, Accuracy: 82.34%\n",
      "Epoch 6/10, Loss: 0.1513, Accuracy: 95.25%\n",
      "Validation Loss: 1.0071, Accuracy: 76.85%\n",
      "Epoch 7/10, Loss: 0.2520, Accuracy: 91.27%\n",
      "Validation Loss: 0.7864, Accuracy: 81.62%\n",
      "Epoch 8/10, Loss: 0.0722, Accuracy: 97.75%\n",
      "Validation Loss: 0.8637, Accuracy: 81.86%\n",
      "Epoch 9/10, Loss: 0.0445, Accuracy: 98.83%\n",
      "Validation Loss: 1.1020, Accuracy: 81.62%\n",
      "Epoch 10/10, Loss: 0.0988, Accuracy: 97.45%\n",
      "Validation Loss: 0.9004, Accuracy: 81.15%\n",
      "Finished Training\n"
     ]
    }
   ],
   "source": [
    "# Main function\n",
    "def main():\n",
    "    image_dir = 'post_disaster'\n",
    "    transform = get_transform()\n",
    "    dataset = DisasterTypeDataset(image_dir, transform=transform)\n",
    "    num_classes = len(set(dataset.labels))\n",
    "\n",
    "    # Split dataset into train, validation, and test sets\n",
    "    train_set, val_set, test_set = random_split(dataset, [int(0.7 * len(dataset)), \n",
    "                                                           int(0.15 * len(dataset)), \n",
    "                                                           len(dataset) - int(0.7 * len(dataset)) - int(0.15 * len(dataset))])\n",
    "\n",
    "    # Create data loaders\n",
    "    train_loader = DataLoader(train_set, batch_size=32, shuffle=True)\n",
    "    val_loader = DataLoader(val_set, batch_size=32, shuffle=False)\n",
    "\n",
    "    # ResNet-18 model\n",
    "    teacher_model = resnet18(pretrained=True)\n",
    "    num_ftrs = teacher_model.fc.in_features\n",
    "    teacher_model.fc = nn.Linear(num_ftrs, num_classes)\n",
    "\n",
    "    # Define loss function and optimizer for the teacher model\n",
    "    criterion_teacher = nn.CrossEntropyLoss()\n",
    "    optimizer_teacher = optim.Adam(teacher_model.parameters(), lr=0.001)\n",
    "\n",
    "    # Train the teacher model\n",
    "    train_model(teacher_model, train_loader, val_loader, criterion_teacher, optimizer_teacher)\n",
    "\n",
    "    # Instantiate the student model\n",
    "    student_model = CNN_model(num_classes)\n",
    "\n",
    "    # Define loss function and optimizer for the student model\n",
    "    criterion_student = nn.CrossEntropyLoss()\n",
    "    optimizer_student = optim.Adam(student_model.parameters(), lr=0.001)\n",
    "\n",
    "    # Train the student model\n",
    "    train_model(student_model, train_loader, val_loader, criterion_student, optimizer_student)\n",
    "\n",
    "if __name__ == '__main__':\n",
    "    main()"
   ]
  }
 ],
 "metadata": {
  "kernelspec": {
   "display_name": "Python 3 (ipykernel)",
   "language": "python",
   "name": "python3"
  },
  "language_info": {
   "codemirror_mode": {
    "name": "ipython",
    "version": 3
   },
   "file_extension": ".py",
   "mimetype": "text/x-python",
   "name": "python",
   "nbconvert_exporter": "python",
   "pygments_lexer": "ipython3",
   "version": "3.9.13"
  }
 },
 "nbformat": 4,
 "nbformat_minor": 5
}
